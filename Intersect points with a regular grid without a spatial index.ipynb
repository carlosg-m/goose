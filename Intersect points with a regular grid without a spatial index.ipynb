{
 "cells": [
  {
   "cell_type": "code",
   "execution_count": 1,
   "metadata": {},
   "outputs": [
    {
     "name": "stderr",
     "output_type": "stream",
     "text": [
      "/usr/local/lib/python3.6/dist-packages/geopandas/_compat.py:110: UserWarning: The Shapely GEOS version (3.8.0-CAPI-1.13.1 ) is incompatible with the GEOS version PyGEOS was compiled with (3.9.1-CAPI-1.14.2). Conversions between both will be slow.\n",
      "  shapely_geos_version, geos_capi_version_string\n"
     ]
    }
   ],
   "source": [
    "import numpy as np\n",
    "import pyproj\n",
    "import matplotlib.pyplot as plt\n",
    "import geopandas as gpd\n",
    "import shapely "
   ]
  },
  {
   "cell_type": "markdown",
   "metadata": {},
   "source": [
    "#### Intersect points with a regular grid without a spatial index\n",
    "- Intersecing points with a regular grid on a cartesian plane can be done efficiently using only NumPy and vectorized operations, without relying on spatial indexes or brute force approaches."
   ]
  },
  {
   "cell_type": "code",
   "execution_count": 2,
   "metadata": {},
   "outputs": [],
   "source": [
    "def create_grid(xmin, ymin, xmax, ymax, xstep, ystep):\n",
    "    \"\"\"\n",
    "    Create bounding coordinates for a regular 2d grid with numpy.\n",
    "    These coordinates can then be used with shapely, pygeos and geopandas.\n",
    "    \"\"\"\n",
    "    \n",
    "    # Generate two evenly spaced ranges\n",
    "    x = np.linspace(xmin, xmax, int(xstep+1))\n",
    "    y = np.linspace(ymin, ymax, int(ystep+1))\n",
    "    \n",
    "    # Get center points for each range\n",
    "    x = np.mean((x[1:], x[:-1]), axis=0)\n",
    "    y = np.mean((y[1:], y[:-1]), axis=0)\n",
    "    \n",
    "    # Cartesian product of both ranges \n",
    "    x, y = np.meshgrid(x, y)\n",
    "    x, y = x.ravel(), y.ravel()\n",
    "\n",
    "    # Calculate delta x and delta y\n",
    "    xd = (xmax - xmin) / (xstep * 2)\n",
    "    yd = (ymax - ymin) / (ystep * 2)\n",
    "    \n",
    "    # Repeat center points and add respective delta\n",
    "    grid = np.column_stack((x,y))\n",
    "    grid = np.tile(grid, 2) + np.array([[-xd, -yd, xd, yd]])\n",
    "    \n",
    "    # Generate index\n",
    "    grid_index = np.arange(0, xstep * ystep)\n",
    "    \n",
    "    # Output coordinates: xmin, ymin, xmax, ymax\n",
    "    return grid, grid_index\n",
    "\n",
    "def intersect_points_grid(xy, xmin, ymin, xmax, ymax, xstep, ystep, open_x=False, open_y=True):\n",
    "    \"\"\"\n",
    "    Intersect 2d Points with a regular 2d Grid using NumPy.\n",
    "    Returns the index of the Grid rectangle that each Point belongs to.\n",
    "    \"\"\"\n",
    "    \n",
    "    # Calculate delta x and delta y\n",
    "    xd = (xmax - xmin) / xstep\n",
    "    yd = (ymax - ymin) / ystep\n",
    "    \n",
    "    # Center points at zero\n",
    "    xy = xy - np.array([[xmin, ymin]])\n",
    "    \n",
    "    # Get index of x and y coordinates\n",
    "    xi = np.floor(xy[:,0] / xd) \n",
    "    yi = np.floor(xy[:,1] / yd) \n",
    "    \n",
    "    # Opened interval for x\n",
    "    if open_x == True:\n",
    "        xi = xi - (xy[:,0] % xd == 0)\n",
    "    \n",
    "    # Opened interval for y\n",
    "    if open_y == True:\n",
    "        yi = yi - (xy[:,1] % yd == 0)\n",
    "    \n",
    "    # Cast to intenger\n",
    "    xi = xi.astype(np.int64)\n",
    "    yi = yi.astype(np.int64) \n",
    "    \n",
    "    # Calculate index\n",
    "    index = xi + (yi * xstep)\n",
    "\n",
    "    return index \n"
   ]
  },
  {
   "cell_type": "markdown",
   "metadata": {},
   "source": [
    "##### Create example grid"
   ]
  },
  {
   "cell_type": "code",
   "execution_count": 3,
   "metadata": {},
   "outputs": [],
   "source": [
    "grid, grid_index = create_grid(xmin=10, ymin=50, xmax=20, ymax=60, xstep=10, ystep=5)"
   ]
  },
  {
   "cell_type": "markdown",
   "metadata": {},
   "source": [
    "##### Create example points"
   ]
  },
  {
   "cell_type": "code",
   "execution_count": 4,
   "metadata": {},
   "outputs": [],
   "source": [
    "test_points = np.array([[10, 50],\n",
    "                        [10, 60],\n",
    "                        [20, 50],\n",
    "                        [20, 60],\n",
    "                        [11, 51],\n",
    "                        [14, 54],\n",
    "                        [11.5, 57.7],\n",
    "                        [17.5, 54.5]])"
   ]
  },
  {
   "cell_type": "markdown",
   "metadata": {},
   "source": [
    "##### Plot grid and Points"
   ]
  },
  {
   "cell_type": "code",
   "execution_count": 5,
   "metadata": {},
   "outputs": [
    {
     "data": {
      "text/plain": [
       "<matplotlib.collections.PathCollection at 0x7fcc03fcc8d0>"
      ]
     },
     "execution_count": 5,
     "metadata": {},
     "output_type": "execute_result"
    },
    {
     "data": {
      "image/png": "[encoded data removed]",
      "text/plain": [
       "<Figure size 432x432 with 1 Axes>"
      ]
     },
     "metadata": {
      "needs_background": "light"
     },
     "output_type": "display_data"
    }
   ],
   "source": [
    "grid_shapely = list(map(lambda x: shapely.geometry.box(*x), grid))\n",
    "\n",
    "fig, ax = plt.subplots(figsize=(6,6))\n",
    "\n",
    "gpd.GeoDataFrame(geometry=grid_shapely).exterior.plot(ax=ax)\n",
    "\n",
    "for coos, index in zip(grid, grid_index):\n",
    "    ax.text(coos[[0,2]].mean(), coos[[1,3]].mean(), str(index), horizontalalignment='center', verticalalignment='center')\n",
    "    \n",
    "ax.scatter(test_points[:,0], test_points[:,1], color='black')"
   ]
  },
  {
   "cell_type": "markdown",
   "metadata": {},
   "source": [
    "##### Intersect Points with Grid\n",
    "- The parameters that define the grid must be known.\n",
    "- Depending if the intervals are closed or opened on the x and y axis, the index returned will change for points that lie exactly on top of grid bounds.\n",
    "- For the other points that lie inside the rectangles the index will remain the same.\n",
    "- For example, assuming the point x=14, y=54:\n",
    "    - If both intervals are closed its index will be 24. \n",
    "    - If the x interval is opened it will lie on rectangle 23.\n",
    "    - If the y interval is opened it will lie on rectangle 14.\n",
    "    - If both intervals are opened its index will be 13."
   ]
  },
  {
   "cell_type": "code",
   "execution_count": 6,
   "metadata": {},
   "outputs": [
    {
     "data": {
      "text/plain": [
       "array([ 0, 50, 10, 60,  1, 24, 31, 27])"
      ]
     },
     "execution_count": 6,
     "metadata": {},
     "output_type": "execute_result"
    }
   ],
   "source": [
    "intersect_points_grid(xy=test_points, xmin=10, ymin=50, xmax=20, ymax=60, xstep=10, ystep=5, open_x=False, open_y=False)"
   ]
  },
  {
   "cell_type": "code",
   "execution_count": 7,
   "metadata": {},
   "outputs": [
    {
     "data": {
      "text/plain": [
       "array([-1, 49,  9, 59,  0, 23, 31, 27])"
      ]
     },
     "execution_count": 7,
     "metadata": {},
     "output_type": "execute_result"
    }
   ],
   "source": [
    "intersect_points_grid(xy=test_points, xmin=10, ymin=50, xmax=20, ymax=60, xstep=10, ystep=5, open_x=True, open_y=False)"
   ]
  },
  {
   "cell_type": "code",
   "execution_count": 8,
   "metadata": {},
   "outputs": [
    {
     "data": {
      "text/plain": [
       "array([-10,  40,   0,  50,   1,  14,  31,  27])"
      ]
     },
     "execution_count": 8,
     "metadata": {},
     "output_type": "execute_result"
    }
   ],
   "source": [
    "intersect_points_grid(xy=test_points, xmin=10, ymin=50, xmax=20, ymax=60, xstep=10, ystep=5, open_x=False, open_y=True)"
   ]
  },
  {
   "cell_type": "code",
   "execution_count": 9,
   "metadata": {},
   "outputs": [
    {
     "data": {
      "text/plain": [
       "array([-11,  39,  -1,  49,   0,  13,  31,  27])"
      ]
     },
     "execution_count": 9,
     "metadata": {},
     "output_type": "execute_result"
    }
   ],
   "source": [
    "intersect_points_grid(xy=test_points, xmin=10, ymin=50, xmax=20, ymax=60, xstep=10, ystep=5, open_x=True, open_y=True)"
   ]
  },
  {
   "cell_type": "markdown",
   "metadata": {},
   "source": [
    "##### Next steps\n",
    "- Now it's possible to use NumPy indexing or a database join (Pandas, Dask or Pyspark), to merge 2d Points with their respective rectangle on a predefined regular grid."
   ]
  },
  {
   "cell_type": "code",
   "execution_count": 10,
   "metadata": {},
   "outputs": [],
   "source": [
    "index = intersect_points_grid(xy=test_points, xmin=10, ymin=50, xmax=20, ymax=60, xstep=10, ystep=5, open_x=False, open_y=False)"
   ]
  },
  {
   "cell_type": "code",
   "execution_count": 11,
   "metadata": {},
   "outputs": [],
   "source": [
    "# Filter points that are inside bounds of array\n",
    "iob = (index >= 0) & (index < grid_index.shape[0])"
   ]
  },
  {
   "cell_type": "code",
   "execution_count": 12,
   "metadata": {},
   "outputs": [
    {
     "data": {
      "text/plain": [
       "array([[10. , 50. ],\n",
       "       [20. , 50. ],\n",
       "       [11. , 51. ],\n",
       "       [14. , 54. ],\n",
       "       [11.5, 57.7],\n",
       "       [17.5, 54.5]])"
      ]
     },
     "execution_count": 12,
     "metadata": {},
     "output_type": "execute_result"
    }
   ],
   "source": [
    "test_points[iob]"
   ]
  },
  {
   "cell_type": "code",
   "execution_count": 13,
   "metadata": {},
   "outputs": [
    {
     "data": {
      "text/plain": [
       "array([[10., 50., 11., 52.],\n",
       "       [10., 52., 11., 54.],\n",
       "       [11., 50., 12., 52.],\n",
       "       [14., 54., 15., 56.],\n",
       "       [11., 56., 12., 58.],\n",
       "       [17., 54., 18., 56.]])"
      ]
     },
     "execution_count": 13,
     "metadata": {},
     "output_type": "execute_result"
    }
   ],
   "source": [
    "grid[index[iob]]"
   ]
  }
 ],
 "metadata": {
  "kernelspec": {
   "display_name": "Python 3",
   "language": "python",
   "name": "python3"
  },
  "language_info": {
   "codemirror_mode": {
    "name": "ipython",
    "version": 3
   },
   "file_extension": ".py",
   "mimetype": "text/x-python",
   "name": "python",
   "nbconvert_exporter": "python",
   "pygments_lexer": "ipython3",
   "version": "3.6.9"
  }
 },
 "nbformat": 4,
 "nbformat_minor": 2
}
