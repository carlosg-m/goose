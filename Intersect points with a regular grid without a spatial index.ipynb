{
 "cells": [
  {
   "cell_type": "markdown",
   "metadata": {},
   "source": [
    "## Intersect points with a regular grid without a spatial index\n",
    "- Source: https://github.com/carlosg-m/goose-lab"
   ]
  },
  {
   "cell_type": "code",
   "execution_count": 1,
   "metadata": {},
   "outputs": [
    {
     "name": "stderr",
     "output_type": "stream",
     "text": [
      "/usr/local/lib/python3.6/dist-packages/geopandas/_compat.py:110: UserWarning: The Shapely GEOS version (3.8.0-CAPI-1.13.1 ) is incompatible with the GEOS version PyGEOS was compiled with (3.9.1-CAPI-1.14.2). Conversions between both will be slow.\n",
      "  shapely_geos_version, geos_capi_version_string\n"
     ]
    }
   ],
   "source": [
    "import numpy as np\n",
    "import pyproj\n",
    "import matplotlib.pyplot as plt\n",
    "import geopandas as gpd\n",
    "import shapely "
   ]
  },
  {
   "cell_type": "markdown",
   "metadata": {},
   "source": [
    "#### Intersect points with a regular grid using Numpy\n",
    "- Intersecing points with a regular grid on a cartesian plane can be done efficiently using only NumPy and vectorized operations, without relying on spatial indexes or brute force approaches."
   ]
  },
  {
   "cell_type": "code",
   "execution_count": 2,
   "metadata": {},
   "outputs": [],
   "source": [
    "def create_grid(xmin, ymin, xmax, ymax, xstep, ystep):\n",
    "    \"\"\"\n",
    "    Create bounding coordinates for a regular 2d grid with numpy.\n",
    "    These coordinates can then be used with shapely, pygeos and geopandas.\n",
    "    \"\"\"\n",
    "    \n",
    "    # Generate two evenly spaced ranges\n",
    "    x = np.linspace(xmin, xmax, int(xstep+1))\n",
    "    y = np.linspace(ymin, ymax, int(ystep+1))\n",
    "    \n",
    "    # Get center points for each range\n",
    "    x = np.mean((x[1:], x[:-1]), axis=0)\n",
    "    y = np.mean((y[1:], y[:-1]), axis=0)\n",
    "    \n",
    "    # Cartesian product of both ranges \n",
    "    x, y = np.meshgrid(x, y)\n",
    "    x, y = x.ravel(), y.ravel()\n",
    "\n",
    "    # Calculate delta x and delta y\n",
    "    xd = (xmax - xmin) / (xstep * 2)\n",
    "    yd = (ymax - ymin) / (ystep * 2)\n",
    "    \n",
    "    # Repeat center points and add respective delta\n",
    "    grid = np.column_stack((x,y))\n",
    "    grid = np.tile(grid, 2) + np.array([[-xd, -yd, xd, yd]])\n",
    "    \n",
    "    # Generate index\n",
    "    grid_index = np.arange(0, xstep * ystep)\n",
    "    \n",
    "    # Output coordinates: xmin, ymin, xmax, ymax\n",
    "    return grid, grid_index\n",
    "\n",
    "def intersect_points_grid(xy, xmin, ymin, xmax, ymax, xstep, ystep, include_xmax=False, include_ymax=False):\n",
    "    \"\"\"\n",
    "    Intersect 2d Points with a regular 2d Grid using NumPy.\n",
    "    Returns the index of the Grid rectangle that each Point belongs to.\n",
    "    \"\"\"\n",
    "    \n",
    "    # Calculate delta x and delta y\n",
    "    xd = (xmax - xmin) / xstep\n",
    "    yd = (ymax - ymin) / ystep\n",
    "    \n",
    "    # Center points at zero\n",
    "    xy = xy - np.array([[xmin, ymin]])\n",
    "    \n",
    "    # Get index of x and y coordinates\n",
    "    xi = np.floor(xy[:,0] / xd) \n",
    "    yi = np.floor(xy[:,1] / yd)\n",
    "    \n",
    "    # Cast x and y index to 64 bit integer\n",
    "    xi = xi.astype(np.int64)\n",
    "    yi = yi.astype(np.int64)\n",
    "    \n",
    "    # Opened interval for x\n",
    "    if include_xmax == True:\n",
    "        xi = xi - (xy[:,0] % xd == 0)\n",
    "    \n",
    "    # Opened interval for y\n",
    "    if include_ymax == True:\n",
    "        yi = yi - (xy[:,1] % yd == 0)\n",
    "        \n",
    "    # Mask out-of-bound indexes on the x and y axis\n",
    "    xi = np.ma.array(xi, mask=((xi < 0) | (xi >= xstep)))\n",
    "    yi = np.ma.array(yi, mask=((yi < 0) | (yi >= ystep)))\n",
    "        \n",
    "    # Calculate index\n",
    "    index = xi + (yi * xstep)\n",
    "    \n",
    "    # Unmask NumPy array\n",
    "    index = index.filled(np.iinfo(np.int64).min)\n",
    "    \n",
    "    return index\n"
   ]
  },
  {
   "cell_type": "markdown",
   "metadata": {},
   "source": [
    "##### Create example grid"
   ]
  },
  {
   "cell_type": "code",
   "execution_count": 3,
   "metadata": {},
   "outputs": [],
   "source": [
    "grid, grid_index = create_grid(xmin=10, ymin=50, xmax=20, ymax=60, xstep=10, ystep=5)"
   ]
  },
  {
   "cell_type": "markdown",
   "metadata": {},
   "source": [
    "##### Create example points"
   ]
  },
  {
   "cell_type": "code",
   "execution_count": 4,
   "metadata": {},
   "outputs": [],
   "source": [
    "test_points = np.array([[10, 50],\n",
    "                        [10, 60],\n",
    "                        [20, 50],\n",
    "                        [20, 60],\n",
    "                        [11, 51],\n",
    "                        [14, 54],\n",
    "                        [11.5, 57.7],\n",
    "                        [17.5, 54.5]])"
   ]
  },
  {
   "cell_type": "markdown",
   "metadata": {},
   "source": [
    "##### Plot grid and Points"
   ]
  },
  {
   "cell_type": "code",
   "execution_count": 5,
   "metadata": {},
   "outputs": [
    {
     "data": {
      "text/plain": [
       "<matplotlib.collections.PathCollection at 0x7fdd51361780>"
      ]
     },
     "execution_count": 5,
     "metadata": {},
     "output_type": "execute_result"
    },
    {
     "data": {
      "image/png": "[encoded data removed]",
      "text/plain": [
       "<Figure size 432x432 with 1 Axes>"
      ]
     },
     "metadata": {
      "needs_background": "light"
     },
     "output_type": "display_data"
    }
   ],
   "source": [
    "grid_shapely = list(map(lambda x: shapely.geometry.box(*x), grid))\n",
    "\n",
    "fig, ax = plt.subplots(figsize=(6,6))\n",
    "\n",
    "gpd.GeoDataFrame(geometry=grid_shapely).exterior.plot(ax=ax)\n",
    "\n",
    "for coos, index in zip(grid, grid_index):\n",
    "    ax.text(coos[[0,2]].mean(), coos[[1,3]].mean(), str(index), horizontalalignment='center', verticalalignment='center')\n",
    "    \n",
    "ax.scatter(test_points[:,0], test_points[:,1], color='black')"
   ]
  },
  {
   "cell_type": "markdown",
   "metadata": {},
   "source": [
    "##### Intersect Points with Grid\n",
    "- The parameters that define the grid must be known.\n",
    "- Points that are out of bounds have as index the smallest possible value that can be represented by a 64 bit integer."
   ]
  },
  {
   "cell_type": "code",
   "execution_count": 6,
   "metadata": {},
   "outputs": [
    {
     "data": {
      "text/plain": [
       "array([                   0, -9223372036854775808, -9223372036854775808,\n",
       "       -9223372036854775808,                    1,                   24,\n",
       "                         31,                   27])"
      ]
     },
     "execution_count": 6,
     "metadata": {},
     "output_type": "execute_result"
    }
   ],
   "source": [
    "intersect_points_grid(xy=test_points, \n",
    "                      xmin=10, ymin=50, xmax=20, ymax=60, xstep=10, ystep=5, \n",
    "                      include_xmax=False, include_ymax=False)"
   ]
  },
  {
   "cell_type": "markdown",
   "metadata": {},
   "source": [
    "##### Next steps\n",
    "- Now it's possible to use NumPy indexing or a database join (Pandas, Dask or Pyspark), to merge 2d Points with their respective rectangle on a predefined regular grid."
   ]
  },
  {
   "cell_type": "code",
   "execution_count": 7,
   "metadata": {},
   "outputs": [],
   "source": [
    "index = intersect_points_grid(xy=test_points, \n",
    "                              xmin=10, ymin=50, xmax=20, ymax=60, xstep=10, ystep=5, \n",
    "                              include_xmax=False, include_ymax=False)"
   ]
  },
  {
   "cell_type": "code",
   "execution_count": 8,
   "metadata": {},
   "outputs": [
    {
     "data": {
      "text/plain": [
       "array([[10. , 50. ],\n",
       "       [11. , 51. ],\n",
       "       [14. , 54. ],\n",
       "       [11.5, 57.7],\n",
       "       [17.5, 54.5]])"
      ]
     },
     "execution_count": 8,
     "metadata": {},
     "output_type": "execute_result"
    }
   ],
   "source": [
    "test_points[index>=0]"
   ]
  },
  {
   "cell_type": "code",
   "execution_count": 9,
   "metadata": {},
   "outputs": [
    {
     "data": {
      "text/plain": [
       "array([[10., 50., 11., 52.],\n",
       "       [11., 50., 12., 52.],\n",
       "       [14., 54., 15., 56.],\n",
       "       [11., 56., 12., 58.],\n",
       "       [17., 54., 18., 56.]])"
      ]
     },
     "execution_count": 9,
     "metadata": {},
     "output_type": "execute_result"
    }
   ],
   "source": [
    "grid[index[index>=0]]"
   ]
  },
  {
   "cell_type": "markdown",
   "metadata": {},
   "source": [
    "##### Another example - single square"
   ]
  },
  {
   "cell_type": "code",
   "execution_count": 10,
   "metadata": {},
   "outputs": [],
   "source": [
    "grid, grid_index = create_grid(xmin=0, ymin=0, xmax=1, ymax=1, xstep=1, ystep=1)"
   ]
  },
  {
   "cell_type": "code",
   "execution_count": 11,
   "metadata": {},
   "outputs": [],
   "source": [
    "test_points = np.array([[0,0],\n",
    "                        [0,1],\n",
    "                        [1,0],\n",
    "                        [1,1]])"
   ]
  },
  {
   "cell_type": "code",
   "execution_count": 12,
   "metadata": {},
   "outputs": [
    {
     "data": {
      "text/plain": [
       "<matplotlib.collections.PathCollection at 0x7fdd512a6b70>"
      ]
     },
     "execution_count": 12,
     "metadata": {},
     "output_type": "execute_result"
    },
    {
     "data": {
      "image/png": "[encoded data removed]",
      "text/plain": [
       "<Figure size 432x432 with 1 Axes>"
      ]
     },
     "metadata": {
      "needs_background": "light"
     },
     "output_type": "display_data"
    }
   ],
   "source": [
    "grid_shapely = list(map(lambda x: shapely.geometry.box(*x), grid))\n",
    "\n",
    "fig, ax = plt.subplots(figsize=(6,6))\n",
    "\n",
    "gpd.GeoDataFrame(geometry=grid_shapely).exterior.plot(ax=ax)\n",
    "\n",
    "for coos, index in zip(grid, grid_index):\n",
    "    ax.text(coos[[0,2]].mean(), coos[[1,3]].mean(), str(index), horizontalalignment='center', verticalalignment='center')\n",
    "    \n",
    "ax.scatter(test_points[:,0], test_points[:,1], color='black')"
   ]
  },
  {
   "cell_type": "markdown",
   "metadata": {},
   "source": [
    "##### Intersect Points with Grid\n",
    "- The boolean parameters include_xmax and include_ymax determine which bounds are inclusive and exclusive. \n",
    "- If both are false the bottom left corner of the grid (origin) will be considered inclusive, and the other 3 corners exclusive.\n",
    "- For the other points that lie inside the rectangles the index will remain the same."
   ]
  },
  {
   "cell_type": "code",
   "execution_count": 13,
   "metadata": {},
   "outputs": [
    {
     "data": {
      "text/plain": [
       "array([                   0, -9223372036854775808, -9223372036854775808,\n",
       "       -9223372036854775808])"
      ]
     },
     "execution_count": 13,
     "metadata": {},
     "output_type": "execute_result"
    }
   ],
   "source": [
    "intersect_points_grid(xy=test_points, \n",
    "                      xmin=0, ymin=0, xmax=1, ymax=1, xstep=1, ystep=1, \n",
    "                      include_xmax=False, include_ymax=False)"
   ]
  },
  {
   "cell_type": "code",
   "execution_count": 14,
   "metadata": {},
   "outputs": [
    {
     "data": {
      "text/plain": [
       "array([-9223372036854775808,                    0, -9223372036854775808,\n",
       "       -9223372036854775808])"
      ]
     },
     "execution_count": 14,
     "metadata": {},
     "output_type": "execute_result"
    }
   ],
   "source": [
    "intersect_points_grid(xy=test_points, \n",
    "                      xmin=0, ymin=0, xmax=1, ymax=1, xstep=1, ystep=1, \n",
    "                      include_xmax=False, include_ymax=True)"
   ]
  },
  {
   "cell_type": "code",
   "execution_count": 15,
   "metadata": {},
   "outputs": [
    {
     "data": {
      "text/plain": [
       "array([-9223372036854775808, -9223372036854775808,                    0,\n",
       "       -9223372036854775808])"
      ]
     },
     "execution_count": 15,
     "metadata": {},
     "output_type": "execute_result"
    }
   ],
   "source": [
    "intersect_points_grid(xy=test_points, \n",
    "                      xmin=0, ymin=0, xmax=1, ymax=1, xstep=1, ystep=1, \n",
    "                      include_xmax=True, include_ymax=False)"
   ]
  },
  {
   "cell_type": "code",
   "execution_count": 16,
   "metadata": {},
   "outputs": [
    {
     "data": {
      "text/plain": [
       "array([-9223372036854775808, -9223372036854775808, -9223372036854775808,\n",
       "                          0])"
      ]
     },
     "execution_count": 16,
     "metadata": {},
     "output_type": "execute_result"
    }
   ],
   "source": [
    "intersect_points_grid(xy=test_points, \n",
    "                      xmin=0, ymin=0, xmax=1, ymax=1, xstep=1, ystep=1, \n",
    "                      include_xmax=True, include_ymax=True)"
   ]
  }
 ],
 "metadata": {
  "kernelspec": {
   "display_name": "Python 3",
   "language": "python",
   "name": "python3"
  },
  "language_info": {
   "codemirror_mode": {
    "name": "ipython",
    "version": 3
   },
   "file_extension": ".py",
   "mimetype": "text/x-python",
   "name": "python",
   "nbconvert_exporter": "python",
   "pygments_lexer": "ipython3",
   "version": "3.6.9"
  }
 },
 "nbformat": 4,
 "nbformat_minor": 2
}
