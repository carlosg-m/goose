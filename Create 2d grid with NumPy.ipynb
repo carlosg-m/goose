{
 "cells": [
  {
   "cell_type": "code",
   "execution_count": 1,
   "metadata": {},
   "outputs": [
    {
     "name": "stderr",
     "output_type": "stream",
     "text": [
      "/usr/local/lib/python3.6/dist-packages/geopandas/_compat.py:110: UserWarning: The Shapely GEOS version (3.8.0-CAPI-1.13.1 ) is incompatible with the GEOS version PyGEOS was compiled with (3.9.1-CAPI-1.14.2). Conversions between both will be slow.\n",
      "  shapely_geos_version, geos_capi_version_string\n"
     ]
    }
   ],
   "source": [
    "import itertools, time, os, gc, shutil, uuid, shutil, pickle, lzma, struct\n",
    "\n",
    "import numpy as np\n",
    "import pandas as pd\n",
    "import matplotlib.pyplot as plt\n",
    "\n",
    "from sklearn.neighbors import KDTree, BallTree\n",
    "\n",
    "import geopandas as gpd\n",
    "import shapely \n",
    "import pygeos\n",
    "import rasterio\n",
    "import pyproj"
   ]
  },
  {
   "cell_type": "markdown",
   "metadata": {},
   "source": [
    "##### Create a 2d grid with NumPy as an array of 4 dimenions: xmin, ymin, xmax, ymax.\n",
    "- The xmin, xmax, ymin, ymax parameters define the bounds of the grid.\n",
    "- The parameters xstep and ystep define the number of rectangles in the x-axis and y-axis respectively.\n",
    "- The index of the grid is also returned.\n",
    "- Every operation is vectorized and implemented in NumPy so it should be very efficient."
   ]
  },
  {
   "cell_type": "code",
   "execution_count": 2,
   "metadata": {},
   "outputs": [],
   "source": [
    "def create_grid(xmin, xmax, ymin, ymax, xstep, ystep):\n",
    "    \n",
    "    # Generate two evenly spaced ranges\n",
    "    x = np.linspace(xmin, xmax, int(xstep+1))\n",
    "    y = np.linspace(ymin, ymax, int(ystep+1))\n",
    "    \n",
    "    # Get center points for each range\n",
    "    x = np.mean((x[1:], x[:-1]), axis=0)\n",
    "    y = np.mean((y[1:], y[:-1]), axis=0)\n",
    "    \n",
    "    # Cartesian product of both ranges \n",
    "    x, y = np.meshgrid(x, y)\n",
    "    x, y = x.ravel(), y.ravel()\n",
    "\n",
    "    # Calculate increment to get the 4 bounds\n",
    "    xd = (xmax - xmin) / (xstep * 2)\n",
    "    yd = (ymax - ymin) / (ystep * 2)\n",
    "    \n",
    "    # Repeat center points and add respective increment\n",
    "    grid = np.column_stack((x,y))\n",
    "    grid = np.tile(grid, 2) + np.array([[-xd, -yd, xd, yd]])\n",
    "    \n",
    "    # Generate index\n",
    "    grid_index = np.arange(1, xstep * ystep + 1)\n",
    "\n",
    "    return grid, grid_index\n"
   ]
  },
  {
   "cell_type": "markdown",
   "metadata": {},
   "source": [
    "##### Examples:"
   ]
  },
  {
   "cell_type": "markdown",
   "metadata": {},
   "source": [
    "- Generate 5x5 grid.\n",
    "- Load as Shapely polygons.\n",
    "- Plot with GeoPandas."
   ]
  },
  {
   "cell_type": "code",
   "execution_count": 3,
   "metadata": {},
   "outputs": [],
   "source": [
    "grid, grid_index = create_grid(xmin=0, xmax=10, ymin=0, ymax=10, xstep=5, ystep=5)"
   ]
  },
  {
   "cell_type": "code",
   "execution_count": 4,
   "metadata": {},
   "outputs": [
    {
     "data": {
      "text/plain": [
       "array([[ 0.,  0.,  2.,  2.],\n",
       "       [ 2.,  0.,  4.,  2.],\n",
       "       [ 4.,  0.,  6.,  2.],\n",
       "       [ 6.,  0.,  8.,  2.],\n",
       "       [ 8.,  0., 10.,  2.],\n",
       "       [ 0.,  2.,  2.,  4.],\n",
       "       [ 2.,  2.,  4.,  4.],\n",
       "       [ 4.,  2.,  6.,  4.],\n",
       "       [ 6.,  2.,  8.,  4.],\n",
       "       [ 8.,  2., 10.,  4.],\n",
       "       [ 0.,  4.,  2.,  6.],\n",
       "       [ 2.,  4.,  4.,  6.],\n",
       "       [ 4.,  4.,  6.,  6.],\n",
       "       [ 6.,  4.,  8.,  6.],\n",
       "       [ 8.,  4., 10.,  6.],\n",
       "       [ 0.,  6.,  2.,  8.],\n",
       "       [ 2.,  6.,  4.,  8.],\n",
       "       [ 4.,  6.,  6.,  8.],\n",
       "       [ 6.,  6.,  8.,  8.],\n",
       "       [ 8.,  6., 10.,  8.],\n",
       "       [ 0.,  8.,  2., 10.],\n",
       "       [ 2.,  8.,  4., 10.],\n",
       "       [ 4.,  8.,  6., 10.],\n",
       "       [ 6.,  8.,  8., 10.],\n",
       "       [ 8.,  8., 10., 10.]])"
      ]
     },
     "execution_count": 4,
     "metadata": {},
     "output_type": "execute_result"
    }
   ],
   "source": [
    "grid"
   ]
  },
  {
   "cell_type": "markdown",
   "metadata": {},
   "source": [
    "- Plot grid with Shapely, GeoPandas and PyPlot."
   ]
  },
  {
   "cell_type": "code",
   "execution_count": 5,
   "metadata": {},
   "outputs": [
    {
     "data": {
      "image/png": "[encoded data removed]",
      "text/plain": [
       "<Figure size 432x432 with 1 Axes>"
      ]
     },
     "metadata": {
      "needs_background": "light"
     },
     "output_type": "display_data"
    }
   ],
   "source": [
    "grid_shapely = list(map(lambda x: shapely.geometry.box(*x), grid))\n",
    "\n",
    "fig, ax = plt.subplots(figsize=(6,6))\n",
    "\n",
    "gpd.GeoDataFrame(geometry=grid_shapely).exterior.plot(ax=ax)\n",
    "\n",
    "for coos, index in zip(grid, grid_index):\n",
    "    ax.text(coos[[0,2]].mean(), coos[[1,3]].mean(), str(index), horizontalalignment='center', verticalalignment='center')"
   ]
  },
  {
   "cell_type": "markdown",
   "metadata": {},
   "source": [
    "- Generate 10x5 grid."
   ]
  },
  {
   "cell_type": "code",
   "execution_count": 6,
   "metadata": {},
   "outputs": [
    {
     "data": {
      "image/png": "[encoded data removed]",
      "text/plain": [
       "<Figure size 432x432 with 1 Axes>"
      ]
     },
     "metadata": {
      "needs_background": "light"
     },
     "output_type": "display_data"
    }
   ],
   "source": [
    "grid, grid_index = create_grid(xmin=0, xmax=10, ymin=0, ymax=10, xstep=10, ystep=5)\n",
    "\n",
    "grid_shapely = list(map(lambda x: shapely.geometry.box(*x), grid))\n",
    "\n",
    "fig, ax = plt.subplots(figsize=(6,6))\n",
    "\n",
    "gpd.GeoDataFrame(geometry=grid_shapely).exterior.plot(ax=ax)\n",
    "\n",
    "for coos, index in zip(grid, grid_index):\n",
    "    ax.text(coos[[0,2]].mean(), coos[[1,3]].mean(), str(index), horizontalalignment='center', verticalalignment='center')"
   ]
  },
  {
   "cell_type": "markdown",
   "metadata": {},
   "source": [
    "- Generate 5x10 grid."
   ]
  },
  {
   "cell_type": "code",
   "execution_count": 7,
   "metadata": {},
   "outputs": [
    {
     "data": {
      "image/png": "[encoded data removed]",
      "text/plain": [
       "<Figure size 432x432 with 1 Axes>"
      ]
     },
     "metadata": {
      "needs_background": "light"
     },
     "output_type": "display_data"
    }
   ],
   "source": [
    "grid, grid_index = create_grid(xmin=0, xmax=10, ymin=0, ymax=10, xstep=5, ystep=10)\n",
    "\n",
    "grid_shapely = list(map(lambda x: shapely.geometry.box(*x), grid))\n",
    "\n",
    "fig, ax = plt.subplots(figsize=(6,6))\n",
    "\n",
    "gpd.GeoDataFrame(geometry=grid_shapely).exterior.plot(ax=ax)\n",
    "\n",
    "for coos, index in zip(grid, grid_index):\n",
    "    ax.text(coos[[0,2]].mean(), coos[[1,3]].mean(), str(index), horizontalalignment='center', verticalalignment='center')"
   ]
  },
  {
   "cell_type": "markdown",
   "metadata": {},
   "source": [
    "- Generate 1x1 grid."
   ]
  },
  {
   "cell_type": "code",
   "execution_count": 8,
   "metadata": {},
   "outputs": [
    {
     "data": {
      "image/png": "[encoded data removed]",
      "text/plain": [
       "<Figure size 432x432 with 1 Axes>"
      ]
     },
     "metadata": {
      "needs_background": "light"
     },
     "output_type": "display_data"
    }
   ],
   "source": [
    "grid, grid_index = create_grid(xmin=0, xmax=10, ymin=0, ymax=10, xstep=1, ystep=1)\n",
    "\n",
    "grid_shapely = list(map(lambda x: shapely.geometry.box(*x), grid))\n",
    "\n",
    "fig, ax = plt.subplots(figsize=(6,6))\n",
    "\n",
    "gpd.GeoDataFrame(geometry=grid_shapely).exterior.plot(ax=ax)\n",
    "\n",
    "for coos, index in zip(grid, grid_index):\n",
    "    ax.text(coos[[0,2]].mean(), coos[[1,3]].mean(), str(index), horizontalalignment='center', verticalalignment='center')"
   ]
  },
  {
   "cell_type": "markdown",
   "metadata": {},
   "source": [
    "##### Bonus: load grid in PyGeos"
   ]
  },
  {
   "cell_type": "code",
   "execution_count": 9,
   "metadata": {},
   "outputs": [],
   "source": [
    "grid, grid_index = create_grid(xmin=0, xmax=10, ymin=0, ymax=10, xstep=5, ystep=5)"
   ]
  },
  {
   "cell_type": "code",
   "execution_count": 10,
   "metadata": {},
   "outputs": [],
   "source": [
    "grid_pygeos = pygeos.creation.box(*grid.T)"
   ]
  },
  {
   "cell_type": "code",
   "execution_count": 11,
   "metadata": {},
   "outputs": [
    {
     "data": {
      "text/plain": [
       "array([<pygeos.Geometry POLYGON ((2 0, 2 2, 0 2, 0 0, 2 0))>,\n",
       "       <pygeos.Geometry POLYGON ((4 0, 4 2, 2 2, 2 0, 4 0))>,\n",
       "       <pygeos.Geometry POLYGON ((6 0, 6 2, 4 2, 4 0, 6 0))>,\n",
       "       <pygeos.Geometry POLYGON ((8 0, 8 2, 6 2, 6 0, 8 0))>,\n",
       "       <pygeos.Geometry POLYGON ((10 0, 10 2, 8 2, 8 0, 10 0))>,\n",
       "       <pygeos.Geometry POLYGON ((2 2, 2 4, 0 4, 0 2, 2 2))>,\n",
       "       <pygeos.Geometry POLYGON ((4 2, 4 4, 2 4, 2 2, 4 2))>,\n",
       "       <pygeos.Geometry POLYGON ((6 2, 6 4, 4 4, 4 2, 6 2))>,\n",
       "       <pygeos.Geometry POLYGON ((8 2, 8 4, 6 4, 6 2, 8 2))>,\n",
       "       <pygeos.Geometry POLYGON ((10 2, 10 4, 8 4, 8 2, 10 2))>,\n",
       "       <pygeos.Geometry POLYGON ((2 4, 2 6, 0 6, 0 4, 2 4))>,\n",
       "       <pygeos.Geometry POLYGON ((4 4, 4 6, 2 6, 2 4, 4 4))>,\n",
       "       <pygeos.Geometry POLYGON ((6 4, 6 6, 4 6, 4 4, 6 4))>,\n",
       "       <pygeos.Geometry POLYGON ((8 4, 8 6, 6 6, 6 4, 8 4))>,\n",
       "       <pygeos.Geometry POLYGON ((10 4, 10 6, 8 6, 8 4, 10 4))>,\n",
       "       <pygeos.Geometry POLYGON ((2 6, 2 8, 0 8, 0 6, 2 6))>,\n",
       "       <pygeos.Geometry POLYGON ((4 6, 4 8, 2 8, 2 6, 4 6))>,\n",
       "       <pygeos.Geometry POLYGON ((6 6, 6 8, 4 8, 4 6, 6 6))>,\n",
       "       <pygeos.Geometry POLYGON ((8 6, 8 8, 6 8, 6 6, 8 6))>,\n",
       "       <pygeos.Geometry POLYGON ((10 6, 10 8, 8 8, 8 6, 10 6))>,\n",
       "       <pygeos.Geometry POLYGON ((2 8, 2 10, 0 10, 0 8, 2 8))>,\n",
       "       <pygeos.Geometry POLYGON ((4 8, 4 10, 2 10, 2 8, 4 8))>,\n",
       "       <pygeos.Geometry POLYGON ((6 8, 6 10, 4 10, 4 8, 6 8))>,\n",
       "       <pygeos.Geometry POLYGON ((8 8, 8 10, 6 10, 6 8, 8 8))>,\n",
       "       <pygeos.Geometry POLYGON ((10 8, 10 10, 8 10, 8 8, 10 8))>],\n",
       "      dtype=object)"
      ]
     },
     "execution_count": 11,
     "metadata": {},
     "output_type": "execute_result"
    }
   ],
   "source": [
    "grid_pygeos"
   ]
  }
 ],
 "metadata": {
  "kernelspec": {
   "display_name": "Python 3",
   "language": "python",
   "name": "python3"
  },
  "language_info": {
   "codemirror_mode": {
    "name": "ipython",
    "version": 3
   },
   "file_extension": ".py",
   "mimetype": "text/x-python",
   "name": "python",
   "nbconvert_exporter": "python",
   "pygments_lexer": "ipython3",
   "version": "3.6.9"
  }
 },
 "nbformat": 4,
 "nbformat_minor": 2
}
